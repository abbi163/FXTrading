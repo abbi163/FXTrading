{
 "cells": [
  {
   "cell_type": "markdown",
   "id": "d1a1d55e-39e5-47fc-95cd-7eab40d43695",
   "metadata": {},
   "source": [
    "### Algorithm:\n",
    "\n",
    "#### Set up the following indicators on the daily S&P 500 chart:\n",
    "\n",
    "    50-day Simple Moving Average (SMA50)\n",
    "    200-day Simple Moving Average (SMA200)\n",
    "    Relative Strength Index (RSI, 14-day)\n",
    "    Stochastic Oscillator (14-day, 3-day, 3-day)\n",
    "\n",
    "#### Buy conditions:\n",
    "\n",
    "    SMA50 is above SMA200, indicating a bullish trend.\n",
    "    RSI is below 30, suggesting an oversold condition.\n",
    "    Stochastic %K line crosses above the %D line and both are below 20, indicating a bullish signal.\n",
    "\n",
    "#### Sell conditions:\n",
    "\n",
    "    SMA50 is below SMA200, indicating a bearish trend.\n",
    "    RSI is above 70, suggesting an overbought condition.\n",
    "    Stochastic %K line crosses below the %D line and both are above 80, indicating a bearish signal.\n",
    "\n",
    "#### Trade management:\n",
    "\n",
    "    Set a stop-loss below the recent swing low for a long position, or above the recent swing high for a short position.\n",
    "    Set a profit target based on a risk-to-reward ratio of at least 1:2 or 1:3. For example, if your stop-loss is 20 points away from the entry price, you can set a profit target 40 or 60 points away."
   ]
  },
  {
   "cell_type": "code",
   "execution_count": null,
   "id": "21326c4c-005f-40f7-a1c4-ce5fad87e8e0",
   "metadata": {},
   "outputs": [],
   "source": []
  }
 ],
 "metadata": {
  "kernelspec": {
   "display_name": "Python 3 (ipykernel)",
   "language": "python",
   "name": "python3"
  },
  "language_info": {
   "codemirror_mode": {
    "name": "ipython",
    "version": 3
   },
   "file_extension": ".py",
   "mimetype": "text/x-python",
   "name": "python",
   "nbconvert_exporter": "python",
   "pygments_lexer": "ipython3",
   "version": "3.8.11"
  }
 },
 "nbformat": 4,
 "nbformat_minor": 5
}
