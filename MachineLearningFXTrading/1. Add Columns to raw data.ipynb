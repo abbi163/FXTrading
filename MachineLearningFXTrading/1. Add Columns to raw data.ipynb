{
 "cells": [
  {
   "cell_type": "code",
   "execution_count": null,
   "id": "9bf4a5ec-433e-4d10-b5f2-becfaaea94a7",
   "metadata": {},
   "outputs": [],
   "source": []
  },
  {
   "cell_type": "code",
   "execution_count": null,
   "id": "498a1ff2-b5e1-42fe-87bc-9b85271d101f",
   "metadata": {},
   "outputs": [],
   "source": []
  },
  {
   "cell_type": "code",
   "execution_count": 1,
   "id": "04fb8891-3f89-4c39-9fd3-94b88312ec4d",
   "metadata": {},
   "outputs": [],
   "source": [
    "import pandas as pd"
   ]
  },
  {
   "cell_type": "code",
   "execution_count": 4,
   "id": "ed24351e-5c1a-44f9-9352-c399007db4d1",
   "metadata": {},
   "outputs": [],
   "source": [
    "def add_columns_and_save(file_path):\n",
    "    df = pd.read_csv(file_path, header=None)\n",
    "    columns = ['date', 'time' ,'open', 'high', 'low', 'close', 'volume']\n",
    "    df=pd.DataFrame(data = df.values.tolist(), columns=columns)\n",
    "    df.to_csv(file_path, index=None)"
   ]
  },
  {
   "cell_type": "code",
   "execution_count": 7,
   "id": "9729f100-03b8-493f-b5b3-011ffd5b76f5",
   "metadata": {},
   "outputs": [],
   "source": [
    "file_path = \"EURUSD60.csv\"\n",
    "\n",
    "# Add columns \n",
    "add_columns_and_save(file_path)"
   ]
  },
  {
   "cell_type": "code",
   "execution_count": null,
   "id": "b552c7b9-511e-45f5-8d6e-6b26dbcec968",
   "metadata": {},
   "outputs": [],
   "source": []
  }
 ],
 "metadata": {
  "kernelspec": {
   "display_name": "Python 3 (ipykernel)",
   "language": "python",
   "name": "python3"
  },
  "language_info": {
   "codemirror_mode": {
    "name": "ipython",
    "version": 3
   },
   "file_extension": ".py",
   "mimetype": "text/x-python",
   "name": "python",
   "nbconvert_exporter": "python",
   "pygments_lexer": "ipython3",
   "version": "3.8.11"
  }
 },
 "nbformat": 4,
 "nbformat_minor": 5
}
