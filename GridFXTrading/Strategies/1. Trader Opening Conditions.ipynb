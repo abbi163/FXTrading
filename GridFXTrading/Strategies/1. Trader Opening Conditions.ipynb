{
 "cells": [
  {
   "cell_type": "markdown",
   "id": "acd6f699-7a54-44a8-b6aa-1b517e6a3799",
   "metadata": {},
   "source": [
    "## INTRODUCTION"
   ]
  },
  {
   "cell_type": "code",
   "execution_count": null,
   "id": "4c7b30ea-fb38-448d-84b7-e774340eab68",
   "metadata": {},
   "outputs": [],
   "source": []
  },
  {
   "cell_type": "code",
   "execution_count": null,
   "id": "9b28c15d-7a40-4446-990d-56081fde978a",
   "metadata": {},
   "outputs": [],
   "source": []
  },
  {
   "cell_type": "markdown",
   "id": "c4a19471-a54d-4b12-84da-b5de23b190bd",
   "metadata": {},
   "source": [
    "### BuyCondition Function\n",
    "    This function is used to determine if the conditions are met for a \"buy\" signal. It uses the Relative Strength Index (RSI) and Bollinger Bands to determine if a buy signal is present.\n",
    "\n",
    "#### Parameters:\n",
    "    None\n",
    "\n",
    "#### Functionality:\n",
    "    1. Calculates the RSI with a 14 period on a 1 hour timeframe.\n",
    "    2. Calculates the lower Bollinger Band with a 14 period and 2 standard deviation on a 1 hour timeframe.\n",
    "    3. Sets the price to the current Ask price.\n",
    "    4. checks if the RSI is less than 30 and the current Ask price is below the lower Bollinger Band.\n",
    "    5. Returns true if both conditions are met, and false if not.\n",
    "    \n",
    "#### Inputs:\n",
    "\n",
    "- **Symbol()**: The current currency pair symbol.\n",
    "- **PERIOD_H1**: The 1 hour timeframe.\n",
    "- **14**: The 14 period used to calculate the RSI and lower Bollinger Band.\n",
    "- **2**: The 2 standard deviation used to calculate the lower Bollinger Band.\n",
    "- **PRICE_CLOSE**: The price type used to calculate the RSI and Bollinger Bands.\n",
    "- **Ask**: The current lowest available price at which you can buy the currency pair.\n",
    "\n",
    "#### Outputs:\n",
    "- **true**: If both the RSI is less than 30 and the current Ask price is below the lower Bollinger Band.\n",
    "- **false**: If either condition is not met."
   ]
  },
  {
   "cell_type": "raw",
   "id": "b381010e-6765-485d-b504-9fe0a09ba033",
   "metadata": {},
   "source": [
    "// Check if conditions are met for a \"buy\" signal  \n",
    "bool BuyCondition()\n",
    "{\n",
    "    // Calculate RSI with a 14 period on a 1 hour timeframe\n",
    "    double rsi = iRSI(Symbol(), PERIOD_H1, 14, PRICE_CLOSE, 0);\n",
    "    \n",
    "    // Calculate the lower Bollinger Band with a 14 period and 2 standard deviation on a 1 hour timeframe\n",
    "    double bbLower = iBands(Symbol(), PERIOD_H1, 14, 2, 0, PRICE_CLOSE, MODE_LOWER, 0);\n",
    "    \n",
    "    // Set the price to the current Ask price\n",
    "    double price = Ask;\n",
    "   \n",
    "    // Check if the RSI is less than 30 and the current Ask price is below the lower Bollinger Band\n",
    "    if (rsi < 30 && price < bbLower)\n",
    "    {\n",
    "        return true;\n",
    "    }\n",
    "    else\n",
    "    {\n",
    "        return false;\n",
    "    }\n",
    "}\n",
    "\n"
   ]
  },
  {
   "cell_type": "markdown",
   "id": "408e9200-9787-4263-b2e4-044c0d63203f",
   "metadata": {},
   "source": [
    "### SellCondition Function\n",
    "    This function is used to determine if the conditions are met for a \"sell\" signal. It uses the Relative Strength Index (RSI) and Bollinger Bands to determine if a buy signal is present.\n",
    "\n",
    "#### Parameters:\n",
    "    None\n",
    "\n",
    "#### Functionality:\n",
    "    1. Calculates the RSI with a 14 period on a 1 hour timeframe.\n",
    "    2. Calculates the upper Bollinger Band with a 14 period and 2 standard deviation on a 1 hour timeframe.\n",
    "    3. Sets the price to the current Bid price.\n",
    "    4. checks if the RSI is more than 70 and the current Ask price is above the upper Bollinger Band.\n",
    "    5. Returns true if both conditions are met, and false if not.\n",
    "    \n",
    "#### Inputs:\n",
    "\n",
    "- **Symbol()**: The current currency pair symbol.\n",
    "- **PERIOD_H1**: The 1 hour timeframe.\n",
    "- **14**: The 14 period used to calculate the RSI and lower Bollinger Band.\n",
    "- **2**: The 2 standard deviation used to calculate the lower Bollinger Band.\n",
    "- **PRICE_CLOSE**: The price type used to calculate the RSI and Bollinger Bands.\n",
    "- **Bid**: The current lowest available price at which you can sell the currency pair.\n",
    "\n",
    "#### Outputs:\n",
    "- **true**: If both the RSI is greater than 70 and the current Bid price is above the upper Bollinger Band.\n",
    "- **false**: If either condition is not met."
   ]
  },
  {
   "cell_type": "raw",
   "id": "23ca070d-88b8-495f-9fb2-35f42da4bb43",
   "metadata": {},
   "source": [
    "// Check if conditions are met for a \"sell\" signal\n",
    "bool SellCondition()\n",
    "{\n",
    "    // Calculate RSI with a 14 period on a 1 hour timeframe\n",
    "    double rsi = iRSI(Symbol(), PERIOD_H1, 14, PRICE_CLOSE, 0);\n",
    "    \n",
    "    // Calculate the upper Bollinger Band with a 14 period and 2 standard deviation on a 1 hour timeframe\n",
    "    double bbUpper = iBands(Symbol(), PERIOD_H1, 14, 2, 0, PRICE_CLOSE, MODE_UPPER, 0);\n",
    "    \n",
    "    // Set the price to the current Bid price\n",
    "    double price = Bid;\n",
    "\n",
    "    // Check if the RSI is greater than 70 and the current Bid price is above the upper Bollinger Band\n",
    "    if (rsi > 70 && price > bbUpper)\n",
    "    {\n",
    "        return true;\n",
    "    }\n",
    "    else\n",
    "    {\n",
    "        return false;\n",
    "    }\n",
    "}\n",
    "\n"
   ]
  },
  {
   "cell_type": "code",
   "execution_count": null,
   "id": "703909d8-b214-4742-bc49-96468d0f5236",
   "metadata": {},
   "outputs": [],
   "source": []
  },
  {
   "cell_type": "code",
   "execution_count": null,
   "id": "bc327cc4-61aa-4988-bbd8-adcbd4fc4806",
   "metadata": {},
   "outputs": [],
   "source": [
    "TODO: \n",
    "    \n",
    "    For now we have BuyCondition and SellCondition, \n",
    "    \n",
    "    Make it into Class BuyCondition  // or think of other name. \n",
    "    \n",
    "    So BuyCondddition.Condition1\n",
    "    BuyCondddition.Condition2 , Something like this. \n",
    "    \n",
    "    \n",
    "    \n",
    "    \n",
    "    Also , instead of BuyCondition, We can have "
   ]
  }
 ],
 "metadata": {
  "kernelspec": {
   "display_name": "Python 3 (ipykernel)",
   "language": "python",
   "name": "python3"
  },
  "language_info": {
   "codemirror_mode": {
    "name": "ipython",
    "version": 3
   },
   "file_extension": ".py",
   "mimetype": "text/x-python",
   "name": "python",
   "nbconvert_exporter": "python",
   "pygments_lexer": "ipython3",
   "version": "3.8.11"
  }
 },
 "nbformat": 4,
 "nbformat_minor": 5
}
