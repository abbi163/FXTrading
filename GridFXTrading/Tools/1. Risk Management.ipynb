{
 "cells": [
  {
   "cell_type": "code",
   "execution_count": null,
   "id": "b632704f-3cf6-4a5a-878b-8283f2a3ebc1",
   "metadata": {},
   "outputs": [],
   "source": []
  },
  {
   "cell_type": "code",
   "execution_count": null,
   "id": "d8aa1841-5e1f-490a-afca-3c1ff617e36a",
   "metadata": {},
   "outputs": [],
   "source": []
  },
  {
   "cell_type": "markdown",
   "id": "0f375055-8f48-40be-b3df-46c2ee47e2da",
   "metadata": {},
   "source": [
    "## INTRODUCTON  \n",
    "------------------------------------------\n",
    "\n",
    "    The purpose of this notebook is to create functions specifically related to the management of trade risks. \n",
    "    \n",
    "   "
   ]
  },
  {
   "cell_type": "code",
   "execution_count": null,
   "id": "9285e345-b235-4d73-bafc-ddd60fb141ab",
   "metadata": {},
   "outputs": [],
   "source": []
  },
  {
   "cell_type": "code",
   "execution_count": null,
   "id": "e1955b1e-4c70-43d9-aa9f-93fc3297900b",
   "metadata": {},
   "outputs": [],
   "source": []
  },
  {
   "cell_type": "code",
   "execution_count": null,
   "id": "be22e682-ed69-468a-947a-fb97fde9d4a6",
   "metadata": {},
   "outputs": [],
   "source": []
  },
  {
   "cell_type": "markdown",
   "id": "372144d7-2adf-40a5-80fb-fa92eb95d719",
   "metadata": {},
   "source": [
    "### 1. CheckDrawdown Function\n",
    "\n",
    "If drawdown is more than the allowed limit then return true, else return false"
   ]
  },
  {
   "cell_type": "raw",
   "id": "d43d89c1-eb03-49a5-a28f-8a1eb5bb938a",
   "metadata": {},
   "source": [
    "bool CheckDrawdown(double drawdown)\n",
    "{  \n",
    "    // If true : then close all trade, \n",
    "    // If false: continue the trade \n",
    "    // Convert drawdown from % to decimal\n",
    "    double ddLimit = NormalizeDouble(drawdown/100, 4);\n",
    "    \n",
    "    double balance = AccountBalance();\n",
    "    double equity = AccountEquity();\n",
    "    \n",
    "    if (ddLimit > NormalizeDouble(1-(equity/balance), 4))\n",
    "        { return false; }\n",
    "    else \n",
    "        { return true;}\n",
    "}"
   ]
  },
  {
   "cell_type": "markdown",
   "id": "bbe049b9-6265-4f70-9ae0-34d0a75771a8",
   "metadata": {},
   "source": [
    "### 2. Close All Order Function"
   ]
  },
  {
   "cell_type": "code",
   "execution_count": null,
   "id": "cb19f7b3-2a87-432b-85dc-5f1461714090",
   "metadata": {},
   "outputs": [],
   "source": [
    "void CloseOrders()\n",
    "{\n",
    "   RefreshRates();\n",
    "\n",
    "   for (int i = (OrdersTotal() - 1); i >= 0; i--)\n",
    "   {\n",
    "      if (OrderSelect(i, SELECT_BY_POS, MODE_TRADES) == false)\n",
    "      {\n",
    "         Print(\"ERROR - Unable to select the order - \", GetLastError());\n",
    "         break;\n",
    "      } \n",
    "\n",
    "      bool res = false;\n",
    "      int Slippage = 5;\n",
    "      double BidPrice = MarketInfo(OrderSymbol(), MODE_BID);\n",
    "      double AskPrice = MarketInfo(OrderSymbol(), MODE_ASK);\n",
    "\n",
    "      if (OrderType() == OP_BUY)\n",
    "      {\n",
    "         res = OrderClose(OrderTicket(), OrderLots(), BidPrice, Slippage);\n",
    "      }\n",
    "      else if (OrderType() == OP_SELL)\n",
    "      {\n",
    "         res = OrderClose(OrderTicket(), OrderLots(), AskPrice, Slippage);\n",
    "      }\n",
    "      \n",
    "      if (res == false) Print(\"ERROR - Unable to close the order - \", OrderTicket(), \" - \", GetLastError());\n",
    "   }\n",
    "}\n"
   ]
  },
  {
   "cell_type": "markdown",
   "id": "ab530735-2de5-4c57-9b54-da741933a1a0",
   "metadata": {},
   "source": [
    "### 3. Implementation of CheckDrawdown and CloseOrders function"
   ]
  },
  {
   "cell_type": "code",
   "execution_count": null,
   "id": "c80564a5-7ed5-4a9d-bfdb-d249036f1588",
   "metadata": {},
   "outputs": [],
   "source": [
    "void OnTick()\n",
    "{   \n",
    "   if (IsNewCandle()) // Function that initiate when a new candle is open. \n",
    "   {       \n",
    "      // Check drawdown and close if function return true. \n",
    "      bool dd = CheckDrawdown(gDrawdown);\n",
    "      if (dd == true) CloseOrders();\n",
    "   }\n",
    "}"
   ]
  },
  {
   "cell_type": "code",
   "execution_count": null,
   "id": "35951a57-8526-4560-a2bc-7a8df535b44d",
   "metadata": {},
   "outputs": [],
   "source": []
  }
 ],
 "metadata": {
  "kernelspec": {
   "display_name": "Python 3 (ipykernel)",
   "language": "python",
   "name": "python3"
  },
  "language_info": {
   "codemirror_mode": {
    "name": "ipython",
    "version": 3
   },
   "file_extension": ".py",
   "mimetype": "text/x-python",
   "name": "python",
   "nbconvert_exporter": "python",
   "pygments_lexer": "ipython3",
   "version": "3.8.11"
  }
 },
 "nbformat": 4,
 "nbformat_minor": 5
}
