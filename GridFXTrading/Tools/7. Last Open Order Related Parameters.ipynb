{
 "cells": [
  {
   "cell_type": "code",
   "execution_count": null,
   "id": "47cda238-1454-4400-b47c-7c270d525276",
   "metadata": {},
   "outputs": [],
   "source": []
  },
  {
   "cell_type": "code",
   "execution_count": null,
   "id": "3ffd1b19-8b4e-42f4-b220-3835e7fad3a5",
   "metadata": {},
   "outputs": [],
   "source": []
  },
  {
   "cell_type": "code",
   "execution_count": null,
   "id": "532fbcc6-9c58-4081-bfa2-e047009a3587",
   "metadata": {},
   "outputs": [],
   "source": [
    "int getLastOrderOpenPrice()\n",
    "{\n",
    "for(pos = OrdersTotal()-1; pos >= 0 ; pos--) \n",
    "    if (OrderSelect(pos, SELECT_BY_POS) \n",
    "        && OrderMagicNumber() == MagicNumber \n",
    "        && OrderSymbol() == Symbol())\n",
    "        && OrderType() == OP_BUY\n",
    "            {\n",
    "            int lastPrice   = OrderOpenPrice();\n",
    "            return(lastPrice, OrderType());\n",
    "            }\n",
    "    \n",
    "    if (OrderSelect(pos, SELECT_BY_POS) \n",
    "        && OrderMagicNumber() == MagicNumber \n",
    "        && OrderSymbol() == Symbol())\n",
    "        && OrderType() == OP_SELL\n",
    "            {\n",
    "            int lastPrice   = OrderOpenPrice();\n",
    "            return(lastPrice, OrderType());\n",
    "            }\n",
    "\n",
    "}"
   ]
  },
  {
   "cell_type": "code",
   "execution_count": null,
   "id": "6150320b-5885-4d0d-99c1-ddfb903a9289",
   "metadata": {},
   "outputs": [],
   "source": []
  },
  {
   "cell_type": "code",
   "execution_count": null,
   "id": "29b63fb2-28bf-4e95-813a-3c41c84f3bb6",
   "metadata": {},
   "outputs": [],
   "source": [
    "int getLastOrderOpenPrice()\n",
    "{\n",
    "for(pos = OrdersTotal()-1; pos >= 0 ; pos--) \n",
    "    if (OrderSelect(pos, SELECT_BY_POS) \n",
    "        && OrderMagicNumber() == MagicNumber \n",
    "        && OrderSymbol() == Symbol())\n",
    "            { \n",
    "                return OrderOpenPrice();\n",
    "            }\n",
    "}\n",
    "\n",
    "\n",
    "int getLastOrderType()\n",
    "{\n",
    "for(pos = OrdersTotal()-1; pos >= 0 ; pos--) \n",
    "    if (OrderSelect(pos, SELECT_BY_POS) \n",
    "        && OrderMagicNumber() == MagicNumber \n",
    "        && OrderSymbol() == Symbol())\n",
    "            { \n",
    "                return OrderType();\n",
    "            }\n",
    "}"
   ]
  },
  {
   "cell_type": "code",
   "execution_count": null,
   "id": "d322d9b7-53f1-4469-9fc2-67a638402205",
   "metadata": {},
   "outputs": [],
   "source": [
    "void GridOpen()\n",
    "{\n",
    "    int lastOrderType = getLastOrderType()\n",
    "    double lastOpenPrice = getLastOpenPrice()\n",
    "\n",
    "    if(lastOrderType == 0 && lastOpenPrice - Ask > GridStep)\n",
    "        {\n",
    "            int buyTicket = Trade.BuyNow();\n",
    "        }\n",
    "\n",
    "    if(lastOrderType == 1 && Bid - lastOpenPrice > GridStep)\n",
    "        {\n",
    "            int sellTicket = Trade.SellNow();\n",
    "        }\n",
    "}"
   ]
  },
  {
   "cell_type": "code",
   "execution_count": null,
   "id": "9f8355ab-74f2-4a98-9b19-121a907e7944",
   "metadata": {},
   "outputs": [],
   "source": [
    "if (OrderCount > 0)\n",
    "{\n",
    "int lastOrderType = getLastOrderType()\n",
    "int lastOpenPrice = getLastOpenPrice()\n",
    "    \n",
    "if ()\n",
    "\n",
    "\n",
    "\n",
    "\n",
    "\n",
    "}"
   ]
  }
 ],
 "metadata": {
  "kernelspec": {
   "display_name": "Python 3 (ipykernel)",
   "language": "python",
   "name": "python3"
  },
  "language_info": {
   "codemirror_mode": {
    "name": "ipython",
    "version": 3
   },
   "file_extension": ".py",
   "mimetype": "text/x-python",
   "name": "python",
   "nbconvert_exporter": "python",
   "pygments_lexer": "ipython3",
   "version": "3.8.11"
  }
 },
 "nbformat": 4,
 "nbformat_minor": 5
}
