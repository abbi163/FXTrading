{
 "cells": [
  {
   "cell_type": "code",
   "execution_count": null,
   "id": "b632704f-3cf6-4a5a-878b-8283f2a3ebc1",
   "metadata": {},
   "outputs": [],
   "source": []
  },
  {
   "cell_type": "code",
   "execution_count": null,
   "id": "d8aa1841-5e1f-490a-afca-3c1ff617e36a",
   "metadata": {},
   "outputs": [],
   "source": []
  },
  {
   "cell_type": "markdown",
   "id": "0f375055-8f48-40be-b3df-46c2ee47e2da",
   "metadata": {},
   "source": [
    "## INTRODUCTON  \n",
    "------------------------------------------\n",
    "\n",
    "    The purpose of this notebook is to create functions specifically related to the management of trade risks. \n",
    "    \n",
    "    I will begin by writing a single function related to trade risk management. As I progress, I will add more functions that are also related to risk management. At the end, I will combine all of the functions into a single class, making it easier to manage and use the functions collectively."
   ]
  },
  {
   "cell_type": "markdown",
   "id": "d4fab7dd-71d4-4651-9096-b815c5f94919",
   "metadata": {},
   "source": [
    "### 1. CloseAllOrders Function\n",
    "\n",
    "This function is designed to manage trade risks by closing all open orders when the equity percentage falls below a specified drawdown limit. \n",
    "\n",
    "#### Parameters:\n",
    "- `drawdown` (double): allowed drawdown in percentage.\n",
    "\n",
    "#### Functionality:\n",
    "- Calculates the equity percentage and drawdown limit.\n",
    "- Closes all open trades if the equity percentage is below the drawdown limit.\n",
    "- Selects each open order and checks its type.\n",
    "- Closes the order if it is a buy or sell order.\n",
    "\n",
    "**Note:** The function uses the `OrderClose()` function to close orders, which takes parameters such as `OrderTicket()`, `OrderLots()`, and `MarketInfo()`.\n"
   ]
  },
  {
   "cell_type": "raw",
   "id": "11911b2a-3a53-42ef-b40c-eb71d5fbda5e",
   "metadata": {},
   "source": [
    "extern double drawdown = 20; // allowed drawdown in percentage !!\n",
    "  \n",
    "void CloseAllOrders(double drawdown)\n",
    "{\n",
    "    // Calculate the equity percentage\n",
    "    double balance = AccountBalance();\n",
    "    double equity = AccountEquity();\n",
    "    double equityPercent = (equity / balance) * 100 ;\n",
    "\n",
    "    // Calculate the drawdown limit\n",
    "    double drawdownLimit = (100 - drawdown) ;\n",
    "\n",
    "    // Close trades if equity is below the drawdown limit\n",
    "    if (equityPercent <= drawdownLimit )\n",
    "    {\n",
    "        int totalOrders = OrdersTotal();\n",
    "        for (int i = totalOrders - 1; i >= 0; i--)\n",
    "            {\n",
    "            // Select each open order and check its type\n",
    "            if (OrderSelect(i, SELECT_BY_POS, MODE_TRADES))\n",
    "                {\n",
    "                int orderType = OrderType();\n",
    "                if (orderType == OP_BUY || orderType == OP_SELL)\n",
    "                    {\n",
    "                    // Close the order if it is a buy or sell order\n",
    "                    OrderClose(OrderTicket(), OrderLots(), MarketInfo(OrderSymbol(), MODE_BID), 5, clrRed);\n",
    "                    }\n",
    "                }\n",
    "            }\n",
    "    }\n",
    "}\n"
   ]
  },
  {
   "cell_type": "code",
   "execution_count": null,
   "id": "e1955b1e-4c70-43d9-aa9f-93fc3297900b",
   "metadata": {},
   "outputs": [],
   "source": []
  },
  {
   "cell_type": "code",
   "execution_count": null,
   "id": "be22e682-ed69-468a-947a-fb97fde9d4a6",
   "metadata": {},
   "outputs": [],
   "source": [
    "void CloseAllOrders()\n",
    "{ \n",
    "    int totalOrders = OrdersTotal();\n",
    "    for (int i = totalOrders - 1; i >= 0; i--)\n",
    "    {\n",
    "        if (OrderSelect(i, SELECT_BY_POS, MODE_TRADES))\n",
    "        {\n",
    "            OrderClose(OrderTicket(), OrderLots(), MarketInfo(OrderSymbol(), MODE_BID), 5, clrRed);   \n",
    "        }\n",
    "    }\n",
    "}"
   ]
  },
  {
   "cell_type": "markdown",
   "id": "372144d7-2adf-40a5-80fb-fa92eb95d719",
   "metadata": {},
   "source": [
    "### 3. CheckDrawdown Function\n",
    "\n",
    "If drawdown is more than the allowed limit then return true, else return false"
   ]
  },
  {
   "cell_type": "raw",
   "id": "d43d89c1-eb03-49a5-a28f-8a1eb5bb938a",
   "metadata": {},
   "source": [
    "bool CheckDrawdown(double drawdown)\n",
    "{  \n",
    "    // If true : then close all trade, \n",
    "    // If false: continue the trade \n",
    "    // Convert drawdown from % to decimal\n",
    "    double ddLimit = NormalizeDouble(drawdown/100, 4);\n",
    "    \n",
    "    double balance = AccountBalance();\n",
    "    double equity = AccountEquity();\n",
    "    \n",
    "    if (ddLimit > NormalizeDouble(1-(equity/balance), 4))\n",
    "        { return false; }\n",
    "    else \n",
    "        { return true;}\n",
    "}\n",
    "\n"
   ]
  },
  {
   "cell_type": "code",
   "execution_count": null,
   "id": "d463ae70-1e01-46c8-9653-d4437f8ca89d",
   "metadata": {},
   "outputs": [],
   "source": []
  },
  {
   "cell_type": "code",
   "execution_count": null,
   "id": "802d6202-d062-44c0-b9d1-ad28403ed9b1",
   "metadata": {},
   "outputs": [],
   "source": [
    "bool BuyCondition()\n",
    "{\n",
    "    double rsi = iRSI(Symbol(), PERIOD_H1, 14, PRICE_CLOSE, 0);\n",
    "    double bbLower = iBands(Symbol(), PERIOD_H1, 14, 2, 0, PRICE_CLOSE, MODE_LOWER, 0);\n",
    "    double price = Ask;\n",
    "\n",
    "    switch (true)\n",
    "    {\n",
    "        case (rsi < 30 && price < bbLower):\n",
    "            return true;\n",
    "\n",
    "        default:\n",
    "            return false;\n",
    "    }\n",
    "}\n"
   ]
  },
  {
   "cell_type": "code",
   "execution_count": null,
   "id": "8e25a2ba-f7fe-4940-854f-8250ce3cf3ca",
   "metadata": {},
   "outputs": [],
   "source": []
  },
  {
   "cell_type": "code",
   "execution_count": null,
   "id": "c80564a5-7ed5-4a9d-bfdb-d249036f1588",
   "metadata": {},
   "outputs": [],
   "source": []
  },
  {
   "cell_type": "code",
   "execution_count": null,
   "id": "35951a57-8526-4560-a2bc-7a8df535b44d",
   "metadata": {},
   "outputs": [],
   "source": []
  }
 ],
 "metadata": {
  "kernelspec": {
   "display_name": "Python 3 (ipykernel)",
   "language": "python",
   "name": "python3"
  },
  "language_info": {
   "codemirror_mode": {
    "name": "ipython",
    "version": 3
   },
   "file_extension": ".py",
   "mimetype": "text/x-python",
   "name": "python",
   "nbconvert_exporter": "python",
   "pygments_lexer": "ipython3",
   "version": "3.8.11"
  }
 },
 "nbformat": 4,
 "nbformat_minor": 5
}
