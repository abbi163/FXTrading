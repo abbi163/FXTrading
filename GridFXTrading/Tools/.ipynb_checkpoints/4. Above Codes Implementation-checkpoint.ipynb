{
 "cells": [
  {
   "cell_type": "code",
   "execution_count": null,
   "id": "dd8aaa63-a449-4b9e-ab51-f7214f1758c4",
   "metadata": {},
   "outputs": [],
   "source": []
  },
  {
   "cell_type": "raw",
   "id": "745abccd-55e5-4ad7-9bc7-bddcbeda4c9c",
   "metadata": {},
   "source": []
  },
  {
   "cell_type": "code",
   "execution_count": null,
   "id": "60f591d2-531b-46da-bb81-3733215e9392",
   "metadata": {},
   "outputs": [],
   "source": []
  },
  {
   "cell_type": "code",
   "execution_count": null,
   "id": "07b641c6-e786-4868-a3a6-4eca9dc686d8",
   "metadata": {},
   "outputs": [],
   "source": []
  },
  {
   "cell_type": "code",
   "execution_count": null,
   "id": "eda6a05a-d35f-4d61-af95-053bbfd60ca2",
   "metadata": {},
   "outputs": [],
   "source": []
  },
  {
   "cell_type": "raw",
   "id": "6d611388-7f77-470f-9a56-008a4d2d3dbc",
   "metadata": {},
   "source": [
    "extern int gMaxOrders = 18;\n",
    "\n",
    "// Assigning variable names \n",
    "int       BuyOrderInfoArray[gMaxOrders][2];\n",
    "int       SellOrderInfoArray[gMaxOrders][2];\n",
    "int       OrderCount;\n",
    "int       Index; \n",
    "int       OrderIndex;\n"
   ]
  },
  {
   "cell_type": "code",
   "execution_count": null,
   "id": "daca0de7-36d9-4b84-8145-26375f274c3c",
   "metadata": {},
   "outputs": [],
   "source": [
    "OrderCount = OrdersTotal() ;    \n",
    "    \n",
    "for Index in orderCount\n",
    "    BuyOrderInfoArray[Index][0] = OrderTicket();\n",
    "    BuyOrderInfoArray[Index][1] = OrderOpenPrice();\n",
    "    \n",
    "// We will use OrderOpenPrice in "
   ]
  },
  {
   "cell_type": "code",
   "execution_count": null,
   "id": "2ea9b5bf-fc23-492d-b8e5-11007eefe9df",
   "metadata": {},
   "outputs": [],
   "source": [
    "if (OrderSelect(buyTicket, SELECT_BY_TICKET))\n",
    "{  \n",
    "    double openPrice = OrderOpenPrice();\n",
    "    BuyOrderInfoArray[Index][0] = OrderTicket();\n",
    "    BuyOrderInfoArray[Index][1] = OrderOpenPrice(); \n",
    "}"
   ]
  },
  {
   "cell_type": "code",
   "execution_count": null,
   "id": "5a2be9cc-ef90-4ea4-bfe7-f4ae7f6eef0b",
   "metadata": {},
   "outputs": [],
   "source": [
    "# Implementation !!"
   ]
  },
  {
   "cell_type": "code",
   "execution_count": null,
   "id": "f9f72282-6801-4c06-b292-86f3a3a38238",
   "metadata": {},
   "outputs": [],
   "source": [
    "extern double gLotSize = 0.1; // Set the lot size of the order\n",
    "extern double gMaxSlippage = 10; // Maximum slippage allowed while opening the trade\n",
    "extern double gTakeProfit = 100; // Set the take profit in points\n",
    "extern double gStopLoss = 10000; // Set the stop loss in points\n",
    "extern double gMagicNumber = 123; // Magic number for opening the trade\n",
    "extern string gOrderSendComment = \"Alpha Return, Vampire 1.0\" ; // Order Comment \n",
    "\n",
    "\n",
    "CTrade Trade(gLotSize, gMaxSlippage, gTakeProfit, gStopLoss, gMagicNumber, gOrderSendComment);\n",
    "\n",
    "void OnTick()\n",
    "  { \n",
    "   // Total Open Order Count !! \n",
    "   OrderCount = OrdersTotal() ; \n",
    "   \n",
    "   if (OrderCount == 0)\n",
    "   {   \n",
    "\n",
    "       if (BuyCondition())\n",
    "           {\n",
    "           int buyTicket = Trade.BuyNow();\n",
    "           if (OrderSelect(buyTicket, SELECT_BY_TICKET))\n",
    "           {  \n",
    "               double openPrice = OrderOpenPrice();\n",
    "               BuyOrderInfoArray[0][0] = OrderTicket();\n",
    "               BuyOrderInfoArray[0][1] = OrderOpenPrice(); \n",
    "           } \n",
    "           }\n",
    "   \n",
    "       if (SellCondition())\n",
    "           {\n",
    "           int sellTicket = Trade.SellNow();\n",
    "           if (OrderSelect(sellTicket, SELECT_BY_TICKET))\n",
    "           {  \n",
    "               double openPrice = OrderOpenPrice();\n",
    "               SellOrderInfoArray[0][0] = OrderTicket();\n",
    "               SellOrderInfoArray[0][1] = OrderOpenPrice(); \n",
    "           } \n",
    "           }\n",
    "   }\n",
    "  }"
   ]
  }
 ],
 "metadata": {
  "kernelspec": {
   "display_name": "Python 3 (ipykernel)",
   "language": "python",
   "name": "python3"
  },
  "language_info": {
   "codemirror_mode": {
    "name": "ipython",
    "version": 3
   },
   "file_extension": ".py",
   "mimetype": "text/x-python",
   "name": "python",
   "nbconvert_exporter": "python",
   "pygments_lexer": "ipython3",
   "version": "3.8.11"
  }
 },
 "nbformat": 4,
 "nbformat_minor": 5
}
