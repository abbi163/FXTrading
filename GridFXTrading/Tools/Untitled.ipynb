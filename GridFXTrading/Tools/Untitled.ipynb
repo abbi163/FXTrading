{
 "cells": [
  {
   "cell_type": "code",
   "execution_count": null,
   "id": "05076907-5dae-4171-8426-bb1e6db1cd90",
   "metadata": {},
   "outputs": [],
   "source": []
  },
  {
   "cell_type": "code",
   "execution_count": null,
   "id": "a9ce275e-c5ca-401c-b1ae-447a86fc8fd5",
   "metadata": {},
   "outputs": [],
   "source": []
  },
  {
   "cell_type": "code",
   "execution_count": null,
   "id": "35b2164c-610e-44e0-a5a2-ce21e60fc938",
   "metadata": {},
   "outputs": [],
   "source": []
  },
  {
   "cell_type": "code",
   "execution_count": null,
   "id": "fa8f4eb1-1021-4593-866a-b42851791666",
   "metadata": {},
   "outputs": [],
   "source": []
  },
  {
   "cell_type": "markdown",
   "id": "81a0f697-3b9d-41ee-8446-a62a28c93654",
   "metadata": {},
   "source": [
    "## 2. When New Candle is open then open the trade !!"
   ]
  },
  {
   "cell_type": "raw",
   "id": "23158529-b506-474f-83b8-bdbe8c51c80a",
   "metadata": {},
   "source": [
    "\n",
    "\n",
    "bool IsNewCandle()\n",
    "  {\n",
    "   static datetime saved_candle_time;\n",
    "   if(Time[0] == saved_candle_time)\n",
    "      return false;\n",
    "   else\n",
    "      saved_candle_time = Time[0];\n",
    "   return true;\n",
    "  }\n",
    "\n"
   ]
  },
  {
   "cell_type": "markdown",
   "id": "808a322b-a0cf-4029-b073-e8d2c8b444dd",
   "metadata": {},
   "source": [
    "### 2. a. Implementation of IsNewCandle()"
   ]
  },
  {
   "cell_type": "raw",
   "id": "4b8c27e0-548b-49cc-a83b-d34fb9597d6f",
   "metadata": {},
   "source": [
    "void OnTick()\n",
    "  {      \n",
    "      if (IsNewCandle())\n",
    "      {\n",
    "       // Code for trading   \n",
    "          \n",
    "      }\n",
    "  }"
   ]
  },
  {
   "cell_type": "markdown",
   "id": "8998434e-a872-4bca-bf23-f272d3bb203f",
   "metadata": {},
   "source": [
    "## 3. CountBotOrders() returns the total number of orders opened by a bot, based on the  magic number "
   ]
  },
  {
   "cell_type": "code",
   "execution_count": null,
   "id": "1f6e84d7-dfc3-4861-bb2c-5757f11767f4",
   "metadata": {},
   "outputs": [],
   "source": [
    "int CountBotOrders() \n",
    "{\n",
    "    int orderCount = 0;\n",
    "    for (int orderPosition = OrdersTotal() - 1; orderPosition >= 0; orderPosition--) \n",
    "    {\n",
    "        OrderSelect(orderPosition, SELECT_BY_POS, MODE_TRADES);\n",
    "        if (OrderSymbol() != Symbol() || OrderMagicNumber() != MagicNumber) continue;\n",
    "        if (OrderSymbol() == Symbol() && OrderMagicNumber() == MagicNumber)\n",
    "        if (OrderType() == OP_SELL || OrderType() == OP_BUY) orderCount++;\n",
    "    }\n",
    "    return orderCount;\n",
    "}\n",
    "\n"
   ]
  },
  {
   "cell_type": "code",
   "execution_count": null,
   "id": "42d3944d-986c-4a58-9ab3-a98c2ffc8298",
   "metadata": {},
   "outputs": [],
   "source": []
  },
  {
   "cell_type": "code",
   "execution_count": null,
   "id": "f5fa2910-19b8-4901-980d-56d09c3f3f12",
   "metadata": {},
   "outputs": [],
   "source": []
  },
  {
   "cell_type": "code",
   "execution_count": null,
   "id": "cccc9f84-4429-414f-a3ed-f9ccef9e04fc",
   "metadata": {},
   "outputs": [],
   "source": [
    "void ModifyTP(int orderType, double TakeProfit, double magicNumber)\n",
    "{  \n",
    "   RefreshRates();\n",
    "\n",
    "   double totalOpenPrice = 0.0;\n",
    "   int numOrders = 0;\n",
    "   double newTakeProfit ;\n",
    "   \n",
    "   for (int pos = OrdersTotal() - 1; pos >= 0; pos--)\n",
    "   {\n",
    "      if (OrderSelect(pos, SELECT_BY_POS, MODE_TRADES))\n",
    "      {\n",
    "         if (OrderMagicNumber() == magicNumber && OrderType() == orderType && OrderSymbol() == Symbol())\n",
    "         {\n",
    "            totalOpenPrice += OrderOpenPrice();\n",
    "            numOrders++;\n",
    "         }\n",
    "      }\n",
    "   }\n",
    "   \n",
    "\n",
    "      double averageOpenPrice = totalOpenPrice / numOrders;\n",
    "       \n",
    "      if (orderType == 0)\n",
    "          { newTakeProfit =  averageOpenPrice + TakeProfit * Point ; }\n",
    "      \n",
    "      if (orderType == 1)\n",
    "         { newTakeProfit =  averageOpenPrice - TakeProfit * Point ; }\n",
    "   \n",
    "    newTakeProfit = NormalizeDouble(newTakeProfit, gDecimalDigits) ;\n",
    "    \n",
    "    for (int i = OrdersTotal() - 1; i >= 0; i--)\n",
    "       {\n",
    "          if (OrderSelect(i, SELECT_BY_POS, MODE_TRADES))\n",
    "          {\n",
    "             if (OrderMagicNumber() == magicNumber && OrderType() == orderType && OrderSymbol() == Symbol())\n",
    "             {  \n",
    "             \n",
    "                RefreshRates();\n",
    "                bool result = OrderModify(OrderTicket(), OrderOpenPrice(), OrderStopLoss(), newTakeProfit, 0, Blue);\n",
    "                if (result == false)\n",
    "                {\n",
    "                   Print(\"Error modifying take profit for order \", OrderTicket(), \": \", GetLastError());\n",
    "                }\n",
    "             }\n",
    "          }\n",
    "       }\n",
    "}\n",
    "\n"
   ]
  },
  {
   "cell_type": "code",
   "execution_count": null,
   "id": "0de04f0d-58c1-4ce8-b756-b45b4bec4151",
   "metadata": {},
   "outputs": [],
   "source": []
  },
  {
   "cell_type": "code",
   "execution_count": null,
   "id": "cc21fe38-9fd1-4c85-b62a-8408f8c9353c",
   "metadata": {},
   "outputs": [],
   "source": []
  }
 ],
 "metadata": {
  "kernelspec": {
   "display_name": "Python 3 (ipykernel)",
   "language": "python",
   "name": "python3"
  },
  "language_info": {
   "codemirror_mode": {
    "name": "ipython",
    "version": 3
   },
   "file_extension": ".py",
   "mimetype": "text/x-python",
   "name": "python",
   "nbconvert_exporter": "python",
   "pygments_lexer": "ipython3",
   "version": "3.8.11"
  }
 },
 "nbformat": 4,
 "nbformat_minor": 5
}
