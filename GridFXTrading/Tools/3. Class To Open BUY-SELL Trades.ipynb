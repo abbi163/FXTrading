{
 "cells": [
  {
   "cell_type": "code",
   "execution_count": null,
   "id": "a8557803-846e-427a-aabc-a4b8a1eb73ab",
   "metadata": {},
   "outputs": [],
   "source": []
  },
  {
   "cell_type": "code",
   "execution_count": null,
   "id": "cdd881d7-07cd-438c-b22a-cee74864d696",
   "metadata": {},
   "outputs": [],
   "source": [
    "# TODO: Some broker won't let the sl and tp put when order is open, we need to modify\n",
    "\n",
    "# Also, Make sure order is open once the bar is closed !\n",
    "# Also , once one order is open or ticket value is already >1, Then switch to Grid mode. \n",
    "# Keep modifying the Take profit. "
   ]
  },
  {
   "cell_type": "code",
   "execution_count": null,
   "id": "7f1f8aeb-c655-489f-96ef-70b33da65325",
   "metadata": {},
   "outputs": [],
   "source": [
    "extern double gLotSize = 0.1; // Set the lot size of the order\n",
    "extern double gMaxSlippage = 10; // Maximum slippage allowed while opening the trade\n",
    "extern double gTakeProfit = 100; // Set the take profit in points\n",
    "extern double gStopLoss = 10000; // Set the stop loss in points\n",
    "extern double gMagicNumber = 123; // Magic number for opening the trade\n",
    "extern string gOrderSendComment = \"Alpha Return, Vampire 1.0\" ; // Order Comment \n",
    "\n",
    "\n",
    "class CTrade {\n",
    "private:\n",
    "    double lotSize;\n",
    "    double maxSlippage;\n",
    "    double takeProfit;\n",
    "    double stopLoss;\n",
    "    int magicNumber;\n",
    "    string orderSendComment;\n",
    "\n",
    "public:\n",
    "    CTrade(double lotSize, double maxSlippage, double takeProfit, double stopLoss, int magicNumber, string orderSendComment) {\n",
    "        this.lotSize = lotSize;\n",
    "        this.maxSlippage = maxSlippage;\n",
    "        this.takeProfit = takeProfit;\n",
    "        this.stopLoss = stopLoss;\n",
    "        this.magicNumber = magicNumber;\n",
    "        this.orderSendComment = orderSendComment;\n",
    "    }\n",
    "\n",
    "    int BuyNow() \n",
    "    {\n",
    "        double takeProfit = Ask + this.takeProfit * Point; // Set the take profit gTakeProfit points above the Ask price\n",
    "        double stopLoss = Bid - this.stopLoss * Point; // Set the stop loss gStopLoss below Bid price\n",
    "\n",
    "        // Open a buy order with the specified lot size, entry price, and take profit\n",
    "        int ticket = OrderSend(Symbol(), OP_BUY, this.lotSize, Ask, this.maxSlippage, stopLoss, takeProfit, this.orderSendComment, this.magicNumber, 0, Blue);\n",
    "\n",
    "        if (ticket > 0) {\n",
    "            Print(\"Buy order opened successfully with ticket #\", ticket);\n",
    "            return ticket;\n",
    "        } else {\n",
    "            Print(\"Failed to open buy order with error code #\", GetLastError());\n",
    "            return 0;\n",
    "        }\n",
    "    }\n",
    "\n",
    "    int SellNow() \n",
    "    {\n",
    "        double takeProfit = Bid - this.takeProfit * Point; // Set the take profit TakeProfit points below the Bid price\n",
    "        double stopLoss = Ask + this.stopLoss * Point; // Set the stop loss gStopLoss above Bid price\n",
    "\n",
    "        // Open a sell order with the specified lot size, entry price, take profit, and stop loss\n",
    "        int ticket = OrderSend(Symbol(), OP_SELL, this.lotSize, Bid, this.maxSlippage, stopLoss, takeProfit, this.orderSendComment, this.magicNumber, 0, Red);\n",
    "\n",
    "        if (ticket > 0) {\n",
    "            Print(\"Sell order opened successfully with ticket #\", ticket);\n",
    "            return ticket;\n",
    "        } else {\n",
    "            Print(\"Failed to open sell order with error code #\", GetLastError());\n",
    "            return 0;\n",
    "        }\n",
    "    }\n",
    "};"
   ]
  }
 ],
 "metadata": {
  "kernelspec": {
   "display_name": "Python 3",
   "language": "python",
   "name": "python3"
  },
  "language_info": {
   "codemirror_mode": {
    "name": "ipython",
    "version": 3
   },
   "file_extension": ".py",
   "mimetype": "text/x-python",
   "name": "python",
   "nbconvert_exporter": "python",
   "pygments_lexer": "ipython3",
   "version": "3.8.8"
  }
 },
 "nbformat": 4,
 "nbformat_minor": 5
}
