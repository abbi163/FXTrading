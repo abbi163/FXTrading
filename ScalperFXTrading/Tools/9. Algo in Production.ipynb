{
 "cells": [
  {
   "cell_type": "code",
   "execution_count": null,
   "id": "cd5d7b4b-3f34-470a-b2f9-86c7ddfd3f74",
   "metadata": {},
   "outputs": [],
   "source": []
  },
  {
   "cell_type": "code",
   "execution_count": null,
   "id": "1e7e002f-85bf-4da9-8312-a4293dbfb27e",
   "metadata": {},
   "outputs": [],
   "source": []
  },
  {
   "cell_type": "code",
   "execution_count": null,
   "id": "9d6784e3-69c1-48b4-8972-f4f3c5054f3d",
   "metadata": {},
   "outputs": [],
   "source": []
  },
  {
   "cell_type": "markdown",
   "id": "856ab327-f6fc-42e4-a787-a6cb654b7f5a",
   "metadata": {},
   "source": [
    "\n",
    "    \n",
    "### Algorithm: Triple Thrust Scalper\n",
    "---------------------------------------------------------------\n",
    "---------------------------------------------------------------\n",
    "\n",
    "#### Set up the following indicators on a 5-minute chart for the currency pair or instrument of your choice:\n",
    "\n",
    "    9-period Exponential Moving Average (EMA9)\n",
    "    21-period Exponential Moving Average (EMA21)\n",
    "    14-period Stochastic Oscillator (14, 3, 3)\n",
    "    14-period Average True Range (ATR14)\n",
    "    \n",
    "#### Buy conditions:\n",
    "\n",
    "    EMA9 crosses above EMA21.\n",
    "    Stochastic %K line crosses above the %D line and both are below 20 (oversold).\n",
    "\n",
    "#### Sell conditions:\n",
    "\n",
    "    EMA9 crosses below EMA21.\n",
    "    Stochastic %K line crosses below the %D line and both are above 80 (overbought).\n",
    "    \n",
    "#### Stop-loss and take-profit:\n",
    "\n",
    "    Calculate the ATR value at the time of entry.\n",
    "    Set a stop-loss 1.5 x ATR below the entry price for a long position or 1.5 x ATR above the entry price for a short position.\n",
    "    Set a take-profit at a minimum of 2 x ATR above the entry price for a long position or 2 x ATR below the entry price for a short positio"
   ]
  },
  {
   "cell_type": "code",
   "execution_count": null,
   "id": "d3a1f64e-083a-4048-89db-266f4c2efa19",
   "metadata": {},
   "outputs": [],
   "source": []
  }
 ],
 "metadata": {
  "kernelspec": {
   "display_name": "Python 3 (ipykernel)",
   "language": "python",
   "name": "python3"
  },
  "language_info": {
   "codemirror_mode": {
    "name": "ipython",
    "version": 3
   },
   "file_extension": ".py",
   "mimetype": "text/x-python",
   "name": "python",
   "nbconvert_exporter": "python",
   "pygments_lexer": "ipython3",
   "version": "3.8.11"
  }
 },
 "nbformat": 4,
 "nbformat_minor": 5
}
